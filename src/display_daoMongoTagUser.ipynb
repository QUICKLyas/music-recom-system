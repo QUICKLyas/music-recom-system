{
 "cells": [
  {
   "cell_type": "code",
   "execution_count": 2,
   "metadata": {},
   "outputs": [
    {
     "name": "stdout",
     "output_type": "stream",
     "text": [
      "[{'name': '欧美', 'count': 65, 'rate': '10.96%'}, {'name': '流行', 'count': 38, 'rate': '6.41%'}, {'name': '华语', 'count': 37, 'rate': '6.24%'}, {'name': '影视原声', 'count': 30, 'rate': '5.06%'}, {'name': '摇滚', 'count': 29, 'rate': '4.89%'}, {'name': 'ACG', 'count': 28, 'rate': '4.72%'}, {'name': '轻音乐', 'count': 28, 'rate': '4.72%'}, {'name': '电子', 'count': 24, 'rate': '4.05%'}, {'name': '经典', 'count': 23, 'rate': '3.88%'}, {'name': '日语', 'count': 20, 'rate': '3.37%'}, {'name': '浪漫', 'count': 18, 'rate': '3.04%'}, {'name': '另类/独立', 'count': 17, 'rate': '2.87%'}, {'name': '钢琴', 'count': 16, 'rate': '2.70%'}, {'name': '古风', 'count': 15, 'rate': '2.53%'}, {'name': '器乐', 'count': 15, 'rate': '2.53%'}, {'name': '古典', 'count': 12, 'rate': '2.02%'}, {'name': '粤语', 'count': 11, 'rate': '1.85%'}, {'name': '小语种', 'count': 11, 'rate': '1.85%'}, {'name': '怀旧', 'count': 10, 'rate': '1.69%'}, {'name': '放松', 'count': 9, 'rate': '1.52%'}, {'name': '民谣', 'count': 9, 'rate': '1.52%'}, {'name': '韩语', 'count': 8, 'rate': '1.35%'}, {'name': '爵士', 'count': 7, 'rate': '1.18%'}, {'name': '蓝调', 'count': 6, 'rate': '1.01%'}, {'name': '感动', 'count': 6, 'rate': '1.01%'}, {'name': '民族', 'count': 6, 'rate': '1.01%'}, {'name': 'New Age', 'count': 6, 'rate': '1.01%'}, {'name': '学习', 'count': 6, 'rate': '1.01%'}, {'name': '旅行', 'count': 6, 'rate': '1.01%'}, {'name': '后摇', 'count': 6, 'rate': '1.01%'}, {'name': '夜晚', 'count': 5, 'rate': '0.84%'}, {'name': '游戏', 'count': 5, 'rate': '0.84%'}, {'name': '治愈', 'count': 5, 'rate': '0.84%'}, {'name': '清新', 'count': 5, 'rate': '0.84%'}, {'name': '乡村', 'count': 4, 'rate': '0.67%'}, {'name': '说唱', 'count': 4, 'rate': '0.67%'}, {'name': '孤独', 'count': 4, 'rate': '0.67%'}, {'name': 'R&B/Soul', 'count': 4, 'rate': '0.67%'}, {'name': '朋克', 'count': 3, 'rate': '0.51%'}, {'name': '驾车', 'count': 3, 'rate': '0.51%'}, {'name': '性感', 'count': 3, 'rate': '0.51%'}, {'name': '安静', 'count': 2, 'rate': '0.34%'}, {'name': '酒吧', 'count': 2, 'rate': '0.34%'}, {'name': '快乐', 'count': 2, 'rate': '0.34%'}, {'name': '运动', 'count': 2, 'rate': '0.34%'}, {'name': '雷鬼', 'count': 2, 'rate': '0.34%'}, {'name': '舞曲', 'count': 2, 'rate': '0.34%'}, {'name': '伤感', 'count': 2, 'rate': '0.34%'}, {'name': 'Bossa Nova', 'count': 2, 'rate': '0.34%'}, {'name': '英伦', 'count': 1, 'rate': '0.17%'}, {'name': '拉丁', 'count': 1, 'rate': '0.17%'}, {'name': '90后', 'count': 1, 'rate': '0.17%'}, {'name': '兴奋', 'count': 1, 'rate': '0.17%'}, {'name': 'KTV', 'count': 1, 'rate': '0.17%'}, {'name': '吉他', 'count': 1, 'rate': '0.17%'}, {'name': '金属', 'count': 1, 'rate': '0.17%'}, {'name': '翻唱', 'count': 1, 'rate': '0.17%'}, {'name': '工作', 'count': 1, 'rate': '0.17%'}, {'name': '下午茶', 'count': 1, 'rate': '0.17%'}]\n"
     ]
    }
   ],
   "source": [
    "import dao.MongoTagUser as mtu\n",
    "\n",
    "mongotu = mtu.TagofSongUserRecom()\n",
    "list = mongotu.makeTagUserRateDataPandas()\n",
    "\n",
    "print(list)"
   ]
  }
 ],
 "metadata": {
  "kernelspec": {
   "display_name": "Python 3",
   "language": "python",
   "name": "python3"
  },
  "language_info": {
   "codemirror_mode": {
    "name": "ipython",
    "version": 3
   },
   "file_extension": ".py",
   "mimetype": "text/x-python",
   "name": "python",
   "nbconvert_exporter": "python",
   "pygments_lexer": "ipython3",
   "version": "3.10.4"
  },
  "orig_nbformat": 4,
  "vscode": {
   "interpreter": {
    "hash": "e7370f93d1d0cde622a1f8e1c04877d8463912d04d973331ad4851f04de6915a"
   }
  }
 },
 "nbformat": 4,
 "nbformat_minor": 2
}
