{
 "cells": [
  {
   "cell_type": "code",
   "execution_count": 1,
   "metadata": {},
   "outputs": [
    {
     "name": "stdout",
     "output_type": "stream",
     "text": [
      "[Thu Feb 23 18:07:12 2023]Start make similarity users answer\n",
      "update coll RuRuUIH in recom\n",
      "None\n"
     ]
    }
   ],
   "source": [
    "import dao.MongoTagUser as mtu\n",
    "\n",
    "mongotu = mtu.TagofSongUserRecom(user_id=\"0bc2cc42a7be11edb7f600155daffd24\")\n",
    "# list = mongotu.makeRecomUsersSet()\n",
    "\n",
    "# print(list)"
   ]
  },
  {
   "cell_type": "code",
   "execution_count": null,
   "metadata": {},
   "outputs": [],
   "source": [
    "import dao.MongoTagUser as mtu\n",
    "\n",
    "mongotu = mtu.TagofSongUserRecom(user_id=\"0bc2cc42a7be11edb7f600155daffd24\")\n",
    "mongotu.makeRecomAnswerForUser(limit=50,page=0)"
   ]
  }
 ],
 "metadata": {
  "kernelspec": {
   "display_name": "Python 3",
   "language": "python",
   "name": "python3"
  },
  "language_info": {
   "codemirror_mode": {
    "name": "ipython",
    "version": 3
   },
   "file_extension": ".py",
   "mimetype": "text/x-python",
   "name": "python",
   "nbconvert_exporter": "python",
   "pygments_lexer": "ipython3",
   "version": "3.10.4"
  },
  "orig_nbformat": 4,
  "vscode": {
   "interpreter": {
    "hash": "e7370f93d1d0cde622a1f8e1c04877d8463912d04d973331ad4851f04de6915a"
   }
  }
 },
 "nbformat": 4,
 "nbformat_minor": 2
}
