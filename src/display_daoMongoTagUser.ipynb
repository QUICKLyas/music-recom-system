{
 "cells": [
  {
   "cell_type": "code",
   "execution_count": 1,
   "metadata": {},
   "outputs": [
    {
     "ename": "KeyError",
     "evalue": "'songs'",
     "output_type": "error",
     "traceback": [
      "\u001b[0;31m---------------------------------------------------------------------------\u001b[0m",
      "\u001b[0;31mKeyError\u001b[0m                                  Traceback (most recent call last)",
      "Cell \u001b[0;32mIn[1], line 4\u001b[0m\n\u001b[1;32m      1\u001b[0m \u001b[39mimport\u001b[39;00m \u001b[39mdao\u001b[39;00m\u001b[39m.\u001b[39;00m\u001b[39mMongoTagUser\u001b[39;00m \u001b[39mas\u001b[39;00m \u001b[39mmtu\u001b[39;00m\n\u001b[1;32m      3\u001b[0m mongotu \u001b[39m=\u001b[39m mtu\u001b[39m.\u001b[39mTagofSongUserRecom()\n\u001b[0;32m----> 4\u001b[0m \u001b[39mlist\u001b[39m \u001b[39m=\u001b[39m mongotu\u001b[39m.\u001b[39;49mmakeTagUserRateDataPandas()\n\u001b[1;32m      6\u001b[0m \u001b[39mprint\u001b[39m(\u001b[39mlist\u001b[39m)\n",
      "File \u001b[0;32m/mnt/f/IDE/Python/music_recom_system/src/dao/MongoTagUser.py:97\u001b[0m, in \u001b[0;36mTagofSongUserRecom.makeTagUserRateDataPandas\u001b[0;34m(self)\u001b[0m\n\u001b[1;32m     95\u001b[0m \u001b[39mdef\u001b[39;00m \u001b[39mmakeTagUserRateDataPandas\u001b[39m(\u001b[39mself\u001b[39m) \u001b[39m-\u001b[39m\u001b[39m>\u001b[39m \u001b[39mlist\u001b[39m:\n\u001b[1;32m     96\u001b[0m     \u001b[39m# 当前方法是开始方法\u001b[39;00m\n\u001b[0;32m---> 97\u001b[0m     \u001b[39mself\u001b[39;49m\u001b[39m.\u001b[39;49mgetTagFromMongo(\u001b[39mself\u001b[39;49m\u001b[39m.\u001b[39;49muser_id)\n\u001b[1;32m     98\u001b[0m     \u001b[39m# print(self.tags)\u001b[39;00m\n\u001b[1;32m     99\u001b[0m     \u001b[39mfor\u001b[39;00m item \u001b[39min\u001b[39;00m \u001b[39mself\u001b[39m\u001b[39m.\u001b[39msongs:\n\u001b[1;32m    100\u001b[0m         \u001b[39m# 记录tags 出现的次数\u001b[39;00m\n",
      "File \u001b[0;32m/mnt/f/IDE/Python/music_recom_system/src/dao/MongoTagUser.py:127\u001b[0m, in \u001b[0;36mTagofSongUserRecom.getTagFromMongo\u001b[0;34m(self, user_id, limit, n)\u001b[0m\n\u001b[1;32m    125\u001b[0m \u001b[39mself\u001b[39m\u001b[39m.\u001b[39muser_name \u001b[39m=\u001b[39m doc[\u001b[39m'\u001b[39m\u001b[39mname\u001b[39m\u001b[39m'\u001b[39m]\n\u001b[1;32m    126\u001b[0m \u001b[39mself\u001b[39m\u001b[39m.\u001b[39mid \u001b[39m=\u001b[39m doc[\u001b[39m'\u001b[39m\u001b[39mid\u001b[39m\u001b[39m'\u001b[39m]\n\u001b[0;32m--> 127\u001b[0m \u001b[39mself\u001b[39m\u001b[39m.\u001b[39msongs \u001b[39m=\u001b[39m doc[\u001b[39m'\u001b[39;49m\u001b[39msongs\u001b[39;49m\u001b[39m'\u001b[39;49m]\n\u001b[1;32m    128\u001b[0m \u001b[39mreturn\u001b[39;00m\n",
      "\u001b[0;31mKeyError\u001b[0m: 'songs'"
     ]
    }
   ],
   "source": [
    "import dao.MongoTagUser as mtu\n",
    "\n",
    "mongotu = mtu.TagofSongUserRecom()\n",
    "list = mongotu.makeTagUserRateDataPandas()\n",
    "\n",
    "print(list)"
   ]
  },
  {
   "cell_type": "code",
   "execution_count": 3,
   "metadata": {},
   "outputs": [
    {
     "ename": "ValueError",
     "evalue": "'session' argument must be a ClientSession or None.",
     "output_type": "error",
     "traceback": [
      "\u001b[0;31m---------------------------------------------------------------------------\u001b[0m",
      "\u001b[0;31mValueError\u001b[0m                                Traceback (most recent call last)",
      "Cell \u001b[0;32mIn[3], line 4\u001b[0m\n\u001b[1;32m      1\u001b[0m \u001b[39mimport\u001b[39;00m \u001b[39mdao\u001b[39;00m\u001b[39m.\u001b[39;00m\u001b[39mMongoTagUser\u001b[39;00m \u001b[39mas\u001b[39;00m \u001b[39mmtu\u001b[39;00m\n\u001b[1;32m      3\u001b[0m mongotu \u001b[39m=\u001b[39m mtu\u001b[39m.\u001b[39mTagofSongUserRecom(user_id\u001b[39m=\u001b[39m\u001b[39m\"\u001b[39m\u001b[39m0bc2cc42a7be11edb7f600155daffd24\u001b[39m\u001b[39m\"\u001b[39m)\n\u001b[0;32m----> 4\u001b[0m mongotu\u001b[39m.\u001b[39;49mmakeRecomAnswerForUser(limit\u001b[39m=\u001b[39;49m\u001b[39m50\u001b[39;49m,page\u001b[39m=\u001b[39;49m\u001b[39m0\u001b[39;49m)\n",
      "File \u001b[0;32m/mnt/f/IDE/Python/music_recom_system/src/dao/MongoTagUser.py:64\u001b[0m, in \u001b[0;36mTagofSongUserRecom.makeRecomAnswerForUser\u001b[0;34m(self, limit, page)\u001b[0m\n\u001b[1;32m     62\u001b[0m querys \u001b[39m=\u001b[39m [{\u001b[39m'\u001b[39m\u001b[39m$sample\u001b[39m\u001b[39m'\u001b[39m: {\u001b[39m\"\u001b[39m\u001b[39msize\u001b[39m\u001b[39m\"\u001b[39m: limit\u001b[39m-\u001b[39m\u001b[39m1\u001b[39m}}]\n\u001b[1;32m     63\u001b[0m project \u001b[39m=\u001b[39m {\u001b[39m'\u001b[39m\u001b[39m$project\u001b[39m\u001b[39m'\u001b[39m: \u001b[39mself\u001b[39m\u001b[39m.\u001b[39mprojections}\n\u001b[0;32m---> 64\u001b[0m docs \u001b[39m=\u001b[39m \u001b[39mself\u001b[39;49m\u001b[39m.\u001b[39;49mrdb\u001b[39m.\u001b[39;49maggregateDocument(\n\u001b[1;32m     65\u001b[0m     collection_name\u001b[39m=\u001b[39;49m\u001b[39m\"\u001b[39;49m\u001b[39mlike\u001b[39;49m\u001b[39m\"\u001b[39;49m,\n\u001b[1;32m     66\u001b[0m     querys\u001b[39m=\u001b[39;49mquerys,\n\u001b[1;32m     67\u001b[0m     projection\u001b[39m=\u001b[39;49mproject)\n\u001b[1;32m     68\u001b[0m \u001b[39mprint\u001b[39m(doc)\n\u001b[1;32m     69\u001b[0m \u001b[39m# print(docs)\u001b[39;00m\n\u001b[1;32m     70\u001b[0m \u001b[39m# if doc in docs:\u001b[39;00m\n\u001b[1;32m     71\u001b[0m \u001b[39m#     print(1)\u001b[39;00m\n\u001b[1;32m     72\u001b[0m \u001b[39m# print()\u001b[39;00m\n",
      "File \u001b[0;32m/mnt/f/IDE/Python/music_recom_system/src/mongo/ReadDataBase.py:26\u001b[0m, in \u001b[0;36mReadColle.aggregateDocument\u001b[0;34m(self, collection_name, querys, projection)\u001b[0m\n\u001b[1;32m     24\u001b[0m \u001b[39mdef\u001b[39;00m \u001b[39maggregateDocument\u001b[39m(\u001b[39mself\u001b[39m, collection_name, querys\u001b[39m=\u001b[39m[], projection\u001b[39m=\u001b[39m{}):\n\u001b[1;32m     25\u001b[0m     cols \u001b[39m=\u001b[39m \u001b[39mself\u001b[39m\u001b[39m.\u001b[39mcondb[collection_name]\n\u001b[0;32m---> 26\u001b[0m     docs \u001b[39m=\u001b[39m cols\u001b[39m.\u001b[39;49maggregate(querys, projection)\n\u001b[1;32m     27\u001b[0m     \u001b[39mreturn\u001b[39;00m \u001b[39mlist\u001b[39m(docs)\n",
      "File \u001b[0;32m~/.local/lib/python3.10/site-packages/pymongo/collection.py:2435\u001b[0m, in \u001b[0;36mCollection.aggregate\u001b[0;34m(self, pipeline, session, let, comment, **kwargs)\u001b[0m\n\u001b[1;32m   2350\u001b[0m \u001b[39mdef\u001b[39;00m \u001b[39maggregate\u001b[39m(\n\u001b[1;32m   2351\u001b[0m     \u001b[39mself\u001b[39m,\n\u001b[1;32m   2352\u001b[0m     pipeline: _Pipeline,\n\u001b[0;32m   (...)\u001b[0m\n\u001b[1;32m   2356\u001b[0m     \u001b[39m*\u001b[39m\u001b[39m*\u001b[39mkwargs: Any,\n\u001b[1;32m   2357\u001b[0m ) \u001b[39m-\u001b[39m\u001b[39m>\u001b[39m CommandCursor[_DocumentType]:\n\u001b[1;32m   2358\u001b[0m \u001b[39m    \u001b[39m\u001b[39m\"\"\"Perform an aggregation using the aggregation framework on this\u001b[39;00m\n\u001b[1;32m   2359\u001b[0m \u001b[39m    collection.\u001b[39;00m\n\u001b[1;32m   2360\u001b[0m \n\u001b[0;32m   (...)\u001b[0m\n\u001b[1;32m   2432\u001b[0m \u001b[39m        https://mongodb.com/docs/manual/reference/command/aggregate\u001b[39;00m\n\u001b[1;32m   2433\u001b[0m \u001b[39m    \"\"\"\u001b[39;00m\n\u001b[0;32m-> 2435\u001b[0m     \u001b[39mwith\u001b[39;00m \u001b[39mself\u001b[39m\u001b[39m.\u001b[39m__database\u001b[39m.\u001b[39mclient\u001b[39m.\u001b[39m_tmp_session(session, close\u001b[39m=\u001b[39m\u001b[39mFalse\u001b[39;00m) \u001b[39mas\u001b[39;00m s:\n\u001b[1;32m   2436\u001b[0m         \u001b[39mreturn\u001b[39;00m \u001b[39mself\u001b[39m\u001b[39m.\u001b[39m_aggregate(\n\u001b[1;32m   2437\u001b[0m             _CollectionAggregationCommand,\n\u001b[1;32m   2438\u001b[0m             pipeline,\n\u001b[0;32m   (...)\u001b[0m\n\u001b[1;32m   2444\u001b[0m             \u001b[39m*\u001b[39m\u001b[39m*\u001b[39mkwargs,\n\u001b[1;32m   2445\u001b[0m         )\n",
      "File \u001b[0;32m/usr/lib/python3.10/contextlib.py:135\u001b[0m, in \u001b[0;36m_GeneratorContextManager.__enter__\u001b[0;34m(self)\u001b[0m\n\u001b[1;32m    133\u001b[0m \u001b[39mdel\u001b[39;00m \u001b[39mself\u001b[39m\u001b[39m.\u001b[39margs, \u001b[39mself\u001b[39m\u001b[39m.\u001b[39mkwds, \u001b[39mself\u001b[39m\u001b[39m.\u001b[39mfunc\n\u001b[1;32m    134\u001b[0m \u001b[39mtry\u001b[39;00m:\n\u001b[0;32m--> 135\u001b[0m     \u001b[39mreturn\u001b[39;00m \u001b[39mnext\u001b[39;49m(\u001b[39mself\u001b[39;49m\u001b[39m.\u001b[39;49mgen)\n\u001b[1;32m    136\u001b[0m \u001b[39mexcept\u001b[39;00m \u001b[39mStopIteration\u001b[39;00m:\n\u001b[1;32m    137\u001b[0m     \u001b[39mraise\u001b[39;00m \u001b[39mRuntimeError\u001b[39;00m(\u001b[39m\"\u001b[39m\u001b[39mgenerator didn\u001b[39m\u001b[39m'\u001b[39m\u001b[39mt yield\u001b[39m\u001b[39m\"\u001b[39m) \u001b[39mfrom\u001b[39;00m \u001b[39mNone\u001b[39m\n",
      "File \u001b[0;32m~/.local/lib/python3.10/site-packages/pymongo/mongo_client.py:1752\u001b[0m, in \u001b[0;36mMongoClient._tmp_session\u001b[0;34m(self, session, close)\u001b[0m\n\u001b[1;32m   1750\u001b[0m \u001b[39mif\u001b[39;00m session \u001b[39mis\u001b[39;00m \u001b[39mnot\u001b[39;00m \u001b[39mNone\u001b[39;00m:\n\u001b[1;32m   1751\u001b[0m     \u001b[39mif\u001b[39;00m \u001b[39mnot\u001b[39;00m \u001b[39misinstance\u001b[39m(session, client_session\u001b[39m.\u001b[39mClientSession):\n\u001b[0;32m-> 1752\u001b[0m         \u001b[39mraise\u001b[39;00m \u001b[39mValueError\u001b[39;00m(\u001b[39m\"\u001b[39m\u001b[39m'\u001b[39m\u001b[39msession\u001b[39m\u001b[39m'\u001b[39m\u001b[39m argument must be a ClientSession or None.\u001b[39m\u001b[39m\"\u001b[39m)\n\u001b[1;32m   1753\u001b[0m     \u001b[39m# Don't call end_session.\u001b[39;00m\n\u001b[1;32m   1754\u001b[0m     \u001b[39myield\u001b[39;00m session\n",
      "\u001b[0;31mValueError\u001b[0m: 'session' argument must be a ClientSession or None."
     ]
    }
   ],
   "source": [
    "import dao.MongoTagUser as mtu\n",
    "\n",
    "mongotu = mtu.TagofSongUserRecom(user_id=\"0bc2cc42a7be11edb7f600155daffd24\")\n",
    "mongotu.makeRecomAnswerForUser(limit=50,page=0)"
   ]
  }
 ],
 "metadata": {
  "kernelspec": {
   "display_name": "Python 3",
   "language": "python",
   "name": "python3"
  },
  "language_info": {
   "codemirror_mode": {
    "name": "ipython",
    "version": 3
   },
   "file_extension": ".py",
   "mimetype": "text/x-python",
   "name": "python",
   "nbconvert_exporter": "python",
   "pygments_lexer": "ipython3",
   "version": "3.10.4"
  },
  "orig_nbformat": 4,
  "vscode": {
   "interpreter": {
    "hash": "e7370f93d1d0cde622a1f8e1c04877d8463912d04d973331ad4851f04de6915a"
   }
  }
 },
 "nbformat": 4,
 "nbformat_minor": 2
}
