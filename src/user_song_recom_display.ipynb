{
 "cells": [
  {
   "cell_type": "code",
   "execution_count": 44,
   "metadata": {},
   "outputs": [],
   "source": [
    "import dao.MongoUsersSong as mus\n",
    "import panda.SongUser as supd\n",
    "# 展示操作一个用户的时候应该如何使用\n",
    "mongomus = mus.UserSongRecom(user_id=\"1a78ac10b67911ed95dd00155dadb10b\")\n",
    "# mongomus.makeRecomUsersSetAnswer(limit=\"ONE\")"
   ]
  },
  {
   "cell_type": "code",
   "execution_count": 45,
   "metadata": {},
   "outputs": [],
   "source": [
    "# 获取recom中之前设置的数据\n",
    "projections = {\"_id\": 0, \"id\": 1, \"name\": 1, \"RecomUsers\": 1}\n",
    "doc = mongomus.rdb.findDocument(\n",
    "    collection_name=\"recom\", query=mongomus.query, projection=projections)\n",
    "\n",
    "# 储存请求用户的名字\n",
    "mongomus.user_name = doc[0]['name']\n",
    "# 跟据数据库给的RecUsers来处理数据\n",
    "list_users_id = []\n",
    "list_users_id.append(mongomus.user_id)\n",
    "# print(self.user_id, list_users_id)\n",
    "# users_id 合集，之后会通过这个来形成x轴坐标\n",
    "list_users_id.extend(doc[0]['RecomUsers'])\n",
    "# 构成xy轴的内容源头\n",
    "docs = mongomus.getSongsWithUserIdFromMongo(array=list_users_id)\n",
    "# print(docs)"
   ]
  },
  {
   "cell_type": "code",
   "execution_count": 55,
   "metadata": {},
   "outputs": [
    {
     "name": "stdout",
     "output_type": "stream",
     "text": [
      "id :\n",
      "1a78ac10b67911ed95dd00155dadb10b\n",
      "name :\n",
      "RuRuUIH\n",
      "RecomUsers :\n",
      "[]\n"
     ]
    }
   ],
   "source": [
    "for item in doc[0].keys():\n",
    "    print(item,\":\")\n",
    "    print(doc[0][item])"
   ]
  },
  {
   "cell_type": "code",
   "execution_count": 47,
   "metadata": {},
   "outputs": [],
   "source": [
    "# matrix_data = data\n",
    "# pandas_x = self.x\n",
    "# pandas_y = self.y\n",
    "data = mongomus.makeXYMatric(docs=docs)\n",
    "# print(data)\n",
    "sudf = supd.SUPandas(datas=list(\n",
    "    map(list, data.toarray())), items=mongomus.y, users=mongomus.x)\n",
    "    "
   ]
  },
  {
   "cell_type": "code",
   "execution_count": 48,
   "metadata": {},
   "outputs": [
    {
     "data": {
      "text/html": [
       "<div>\n",
       "<style scoped>\n",
       "    .dataframe tbody tr th:only-of-type {\n",
       "        vertical-align: middle;\n",
       "    }\n",
       "\n",
       "    .dataframe tbody tr th {\n",
       "        vertical-align: top;\n",
       "    }\n",
       "\n",
       "    .dataframe thead th {\n",
       "        text-align: right;\n",
       "    }\n",
       "</style>\n",
       "<table border=\"1\" class=\"dataframe\">\n",
       "  <thead>\n",
       "    <tr style=\"text-align: right;\">\n",
       "      <th></th>\n",
       "      <th>RuRuUIH</th>\n",
       "    </tr>\n",
       "  </thead>\n",
       "  <tbody>\n",
       "    <tr>\n",
       "      <th>35504129</th>\n",
       "      <td>1</td>\n",
       "    </tr>\n",
       "    <tr>\n",
       "      <th>29100034</th>\n",
       "      <td>1</td>\n",
       "    </tr>\n",
       "    <tr>\n",
       "      <th>19918849</th>\n",
       "      <td>1</td>\n",
       "    </tr>\n",
       "    <tr>\n",
       "      <th>16435207</th>\n",
       "      <td>1</td>\n",
       "    </tr>\n",
       "    <tr>\n",
       "      <th>5027852</th>\n",
       "      <td>1</td>\n",
       "    </tr>\n",
       "    <tr>\n",
       "      <th>...</th>\n",
       "      <td>...</td>\n",
       "    </tr>\n",
       "    <tr>\n",
       "      <th>468738013</th>\n",
       "      <td>1</td>\n",
       "    </tr>\n",
       "    <tr>\n",
       "      <th>32309218</th>\n",
       "      <td>1</td>\n",
       "    </tr>\n",
       "    <tr>\n",
       "      <th>409102312</th>\n",
       "      <td>1</td>\n",
       "    </tr>\n",
       "    <tr>\n",
       "      <th>410181618</th>\n",
       "      <td>1</td>\n",
       "    </tr>\n",
       "    <tr>\n",
       "      <th>401396</th>\n",
       "      <td>1</td>\n",
       "    </tr>\n",
       "  </tbody>\n",
       "</table>\n",
       "<p>448 rows × 1 columns</p>\n",
       "</div>"
      ],
      "text/plain": [
       "           RuRuUIH\n",
       "35504129         1\n",
       "29100034         1\n",
       "19918849         1\n",
       "16435207         1\n",
       "5027852          1\n",
       "...            ...\n",
       "468738013        1\n",
       "32309218         1\n",
       "409102312        1\n",
       "410181618        1\n",
       "401396           1\n",
       "\n",
       "[448 rows x 1 columns]"
      ]
     },
     "execution_count": 48,
     "metadata": {},
     "output_type": "execute_result"
    }
   ],
   "source": [
    "sudf.df"
   ]
  },
  {
   "cell_type": "code",
   "execution_count": 49,
   "metadata": {},
   "outputs": [
    {
     "name": "stderr",
     "output_type": "stream",
     "text": [
      "/home/arki/.local/lib/python3.10/site-packages/sklearn/metrics/pairwise.py:2025: DataConversionWarning: Data was converted to boolean for metric jaccard\n",
      "  warnings.warn(msg, DataConversionWarning)\n"
     ]
    }
   ],
   "source": [
    "# 推荐过程\n",
    "# dict_user_song = mongomus.makeRecomDcition(df_object=sudf, sign=-1)\n",
    "similar = sudf.makeSimilarityBetweenUser()"
   ]
  },
  {
   "cell_type": "code",
   "execution_count": 50,
   "metadata": {},
   "outputs": [
    {
     "data": {
      "text/html": [
       "<div>\n",
       "<style scoped>\n",
       "    .dataframe tbody tr th:only-of-type {\n",
       "        vertical-align: middle;\n",
       "    }\n",
       "\n",
       "    .dataframe tbody tr th {\n",
       "        vertical-align: top;\n",
       "    }\n",
       "\n",
       "    .dataframe thead th {\n",
       "        text-align: right;\n",
       "    }\n",
       "</style>\n",
       "<table border=\"1\" class=\"dataframe\">\n",
       "  <thead>\n",
       "    <tr style=\"text-align: right;\">\n",
       "      <th></th>\n",
       "      <th>RuRuUIH</th>\n",
       "    </tr>\n",
       "  </thead>\n",
       "  <tbody>\n",
       "    <tr>\n",
       "      <th>RuRuUIH</th>\n",
       "      <td>1.0</td>\n",
       "    </tr>\n",
       "  </tbody>\n",
       "</table>\n",
       "</div>"
      ],
      "text/plain": [
       "         RuRuUIH\n",
       "RuRuUIH      1.0"
      ]
     },
     "execution_count": 50,
     "metadata": {},
     "output_type": "execute_result"
    }
   ],
   "source": [
    "similar"
   ]
  },
  {
   "cell_type": "code",
   "execution_count": 51,
   "metadata": {},
   "outputs": [
    {
     "name": "stdout",
     "output_type": "stream",
     "text": [
      "{'RuRuUIH': []}\n"
     ]
    }
   ],
   "source": [
    "# 使用平均数，对以上的相似度结果求平均，并取高于平均数的对象形成一个list\n",
    "diction_user = sudf.makeTopNUsers(similar=similar,sign=1)\n",
    "print(diction_user)\n",
    "diction = sudf.makeRecomUserBySong(\n",
    "            topN=diction_user, song_num=50)"
   ]
  },
  {
   "cell_type": "code",
   "execution_count": 52,
   "metadata": {},
   "outputs": [
    {
     "name": "stdout",
     "output_type": "stream",
     "text": [
      "{'RuRuUIH': [[], []]}\n"
     ]
    }
   ],
   "source": [
    "# 程序过程中会有sign 来判断是去单个，还是返回所有的\n",
    "dict_result = {mongomus.user_name: [diction[mongomus.user_name],diction_user[mongomus.user_name]]}\n",
    "print(dict_result)"
   ]
  },
  {
   "cell_type": "code",
   "execution_count": 53,
   "metadata": {},
   "outputs": [
    {
     "name": "stdout",
     "output_type": "stream",
     "text": [
      "{'RuRuUIH': [[], []]}\n"
     ]
    }
   ],
   "source": [
    "print(dict_result)"
   ]
  },
  {
   "cell_type": "code",
   "execution_count": 54,
   "metadata": {},
   "outputs": [
    {
     "name": "stdout",
     "output_type": "stream",
     "text": [
      "update coll RuRuUIH in recom\n"
     ]
    }
   ],
   "source": [
    "# 最后保存\n",
    "# mongomus.saveUserSongRecomAnswer(diction=dict_result)\n",
    "docs = mongomus.changeDataFormat(diction=dict_result, list_keys=list(dict_result))\n",
    "# print(docs)\n",
    "mongomus.wdb.writeDocument(\n",
    "    docs=docs, collection_name=\"recom\")\n"
   ]
  }
 ],
 "metadata": {
  "kernelspec": {
   "display_name": "Python 3",
   "language": "python",
   "name": "python3"
  },
  "language_info": {
   "codemirror_mode": {
    "name": "ipython",
    "version": 3
   },
   "file_extension": ".py",
   "mimetype": "text/x-python",
   "name": "python",
   "nbconvert_exporter": "python",
   "pygments_lexer": "ipython3",
   "version": "3.10.4"
  },
  "orig_nbformat": 4,
  "vscode": {
   "interpreter": {
    "hash": "e7370f93d1d0cde622a1f8e1c04877d8463912d04d973331ad4851f04de6915a"
   }
  }
 },
 "nbformat": 4,
 "nbformat_minor": 2
}
